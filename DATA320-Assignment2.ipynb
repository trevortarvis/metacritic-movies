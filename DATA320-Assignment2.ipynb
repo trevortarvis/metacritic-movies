{
 "cells": [
  {
   "cell_type": "code",
   "execution_count": 391,
   "metadata": {},
   "outputs": [
    {
     "name": "stdout",
     "output_type": "stream",
     "text": [
      "Requirement already satisfied: urllib3 in c:\\users\\trevor\\appdata\\local\\programs\\python\\python311\\lib\\site-packages (2.0.5)\n",
      "Note: you may need to restart the kernel to use updated packages.\n"
     ]
    }
   ],
   "source": [
    "pip install urllib3"
   ]
  },
  {
   "cell_type": "code",
   "execution_count": 392,
   "metadata": {},
   "outputs": [
    {
     "name": "stdout",
     "output_type": "stream",
     "text": [
      "Requirement already satisfied: certifi in c:\\users\\trevor\\appdata\\local\\programs\\python\\python311\\lib\\site-packages (2023.7.22)\n",
      "Note: you may need to restart the kernel to use updated packages.\n"
     ]
    }
   ],
   "source": [
    "pip install certifi"
   ]
  },
  {
   "cell_type": "code",
   "execution_count": 393,
   "metadata": {},
   "outputs": [
    {
     "name": "stdout",
     "output_type": "stream",
     "text": [
      "Requirement already satisfied: pandas in c:\\users\\trevor\\appdata\\local\\programs\\python\\python311\\lib\\site-packages (2.1.1)\n",
      "Requirement already satisfied: numpy>=1.23.2 in c:\\users\\trevor\\appdata\\local\\programs\\python\\python311\\lib\\site-packages (from pandas) (1.26.0)\n",
      "Requirement already satisfied: python-dateutil>=2.8.2 in c:\\users\\trevor\\appdata\\roaming\\python\\python311\\site-packages (from pandas) (2.8.2)\n",
      "Requirement already satisfied: pytz>=2020.1 in c:\\users\\trevor\\appdata\\local\\programs\\python\\python311\\lib\\site-packages (from pandas) (2023.3.post1)\n",
      "Requirement already satisfied: tzdata>=2022.1 in c:\\users\\trevor\\appdata\\local\\programs\\python\\python311\\lib\\site-packages (from pandas) (2023.3)\n",
      "Requirement already satisfied: six>=1.5 in c:\\users\\trevor\\appdata\\roaming\\python\\python311\\site-packages (from python-dateutil>=2.8.2->pandas) (1.16.0)\n",
      "Note: you may need to restart the kernel to use updated packages.\n"
     ]
    }
   ],
   "source": [
    "pip install pandas"
   ]
  },
  {
   "cell_type": "code",
   "execution_count": 394,
   "metadata": {},
   "outputs": [
    {
     "name": "stdout",
     "output_type": "stream",
     "text": [
      "200\n",
      "345906\n"
     ]
    }
   ],
   "source": [
    "#I retrieve the text of the metacritic page\n",
    "import urllib3 #importing libraries\n",
    "import certifi\n",
    "import re\n",
    "import pandas as pd\n",
    "\n",
    "link = \"https://www.metacritic.com/browse/movie/all/all/2015/metascore/?page=1\"\n",
    "\n",
    "http = urllib3.PoolManager(ca_certs=certifi.where())\n",
    "\n",
    "r = http.request('GET', link, headers={ \"user-agent\": \"Chrome/86.0.4240.111\"} )\n",
    "#Credit to Benger Lei for sharing headers code\n",
    "\n",
    "datastring = str(r.data, \"utf-8\")\n",
    "\n",
    "print(r.status)\n",
    "print(len(datastring))"
   ]
  },
  {
   "cell_type": "code",
   "execution_count": 395,
   "metadata": {},
   "outputs": [
    {
     "name": "stdout",
     "output_type": "stream",
     "text": [
      "Found 24 matches. The first match is: '45 Years'\n"
     ]
    }
   ],
   "source": [
    "#Find movie titles\n",
    "movie_title_expression = r'<div data-title=\"(.*?)\"'\n",
    "movie_title_matches = re.findall(movie_title_expression, datastring)\n",
    "print(f\"Found {len(movie_title_matches)} matches. The first match is: '{movie_title_matches[0]}'\")"
   ]
  },
  {
   "cell_type": "code",
   "execution_count": 396,
   "metadata": {},
   "outputs": [
    {
     "name": "stdout",
     "output_type": "stream",
     "text": [
      "Found 24 first match: Dec 23, 2015.\n"
     ]
    }
   ],
   "source": [
    "#Find Movie Release Date\n",
    "release_date_expression = r'span class=\"u-text-uppercase\">\\s+(.*)'\n",
    "release_date_matches = re.findall(release_date_expression, datastring)\n",
    "print(f\"Found {len(release_date_matches)} first match: {release_date_matches[0]}.\")"
   ]
  },
  {
   "cell_type": "code",
   "execution_count": 397,
   "metadata": {},
   "outputs": [
    {
     "name": "stdout",
     "output_type": "stream",
     "text": [
      "Found 24 first match : 94\n"
     ]
    }
   ],
   "source": [
    "#Find Metascore\n",
    "metascore_expression = r'<div title=\"Metascore (.*?) out of 100\"'\n",
    "metascore_matches = re.findall(metascore_expression, datastring)\n",
    "print(f\"Found {len(metascore_matches)} first match : {metascore_matches[0]}\")"
   ]
  },
  {
   "cell_type": "code",
   "execution_count": 398,
   "metadata": {},
   "outputs": [
    {
     "name": "stdout",
     "output_type": "stream",
     "text": [
      "Retrieved 24 movie thumbnails, now time to fix &amp\n",
      "['https://www.metacritic.com/a/img/resize/6a5bd5bbb7974005d66c3fe569c21e3786ea3145/catalog/provider/2/2/2-7e75f9d82b9daa3efdb74ef6d7d5505f.jpg?auto=webp&;fit=cover&;height=132&;width=88', 'https://www.metacritic.com/a/img/resize/7b3783def087f9b94e7a0391870fc81d08cc8449/catalog/provider/2/2/2-f7316f7e14637d049239318771fdd1a0.jpg?auto=webp&;fit=cover&;height=132&;width=88', 'https://www.metacritic.com/a/img/resize/54c04aa6b209fdf9bf3aface7457b9bfdfd036fc/catalog/provider/2/2/2-ec41dc3dbeb08defaa20a5ff93a1fc64.jpg?auto=webp&;fit=cover&;height=132&;width=88', 'https://www.metacritic.com/a/img/resize/35758d6a35b5992b36081c441e9dd3869b461a25/catalog/provider/2/2/2-337ed9394803aa3e504a12ae7abf5eaf.jpg?auto=webp&;fit=cover&;height=132&;width=88', 'https://www.metacritic.com/a/img/resize/ffb78b3e2560281c977d60448ad5b62afc566d14/catalog/provider/2/2/2-83789aa521d7a7a10473bb311623ec41.jpg?auto=webp&;fit=cover&;height=132&;width=88', 'https://www.metacritic.com/a/img/resize/15326c4d0f712ca6832ec247faddb0e1258ce29e/catalog/provider/2/2/2-f5310d7eeaa81f567744c9f9fd177786.jpg?auto=webp&;fit=cover&;height=132&;width=88', 'https://www.metacritic.com/a/img/resize/d9d1fecde0221a12e51a1411fb4674a6bc08e2b9/catalog/provider/2/2/2-183a271796b8b76982b89bb23729b828.jpg?auto=webp&;fit=cover&;height=132&;width=88', 'https://www.metacritic.com/a/img/resize/a477607fbcbc44288a2efb27dbcd2eba34469caf/catalog/provider/2/2/2-6467658e5615807af6b270e0a7c4dfea.jpg?auto=webp&;fit=cover&;height=132&;width=88', 'https://www.metacritic.com/a/img/resize/c85a3e6a9f5ba94e5d5e534e33e0aa753a69c994/catalog/provider/2/2/2-94c61ec444cb2ab7e05970eb05bed74f.jpg?auto=webp&;fit=cover&;height=132&;width=88', 'https://www.metacritic.com/a/img/resize/ce2103b2a600881db9fa7085dd1a5329c2cb9530/catalog/provider/2/2/2-6e14e1ffeeb8713b51c8d45b2f14fded.jpg?auto=webp&;fit=cover&;height=132&;width=88', 'https://www.metacritic.com/a/img/resize/1c34e85c886fefddca60973d6d25cc92b426a20d/catalog/provider/2/2/2-9de191ddc38e5e5b759755602f7947f8.jpg?auto=webp&;fit=cover&;height=132&;width=88', 'https://www.metacritic.com/a/img/resize/3f1c461ebed57e45e64721b559962c2242afee82/catalog/provider/2/2/2-c3f1031e2fcb0f91e85b4e211c4ada39.jpg?auto=webp&;fit=cover&;height=132&;width=88', 'https://www.metacritic.com/a/img/resize/877be29946b4f2738fc408e25de3651c218acf97/catalog/provider/2/2/2-bf0c4a7df2dbf79406df83be83ee5a29.jpg?auto=webp&;fit=cover&;height=132&;width=88', 'https://www.metacritic.com/a/img/resize/ed71a3f1b8ae6e345d0f6f219f74b947d9bb8899/catalog/provider/2/2/2-ce827545b84ffb00c3bf49caf97ce035.jpg?auto=webp&;fit=cover&;height=132&;width=88', 'https://www.metacritic.com/a/img/resize/9fe46e9a5b00c37e48716261e678d0dacba3a92f/catalog/provider/2/2/2-704b698e154404711c54c7b26cc76e49.jpg?auto=webp&;fit=cover&;height=132&;width=88', 'https://www.metacritic.com/a/img/resize/8238505e9c2869595b300b9c71b79541a39cc3d9/catalog/provider/2/2/2-c3c583ba54a3d966bf157a81aca9cbdf.jpg?auto=webp&;fit=cover&;height=132&;width=88', 'https://www.metacritic.com/a/img/resize/4a40b66136f85e978a22af40d5d1e295ff5d719e/catalog/provider/2/2/2-194541536911692ea0e72e90719150ca.jpg?auto=webp&;fit=cover&;height=132&;width=88', 'https://www.metacritic.com/a/img/resize/bb65fa86d5cf8ba85737d331a81592258bba6b1e/catalog/provider/2/2/2-8cc8847c1277118aaac02915ad1a1809.jpg?auto=webp&;fit=cover&;height=132&;width=88', 'https://www.metacritic.com/a/img/resize/3d4bdb79c04a0d2ee0e930c5fc67b85ffe3d7c3d/catalog/provider/2/2/2-f69e092a54cb26f35132af7a9deda246.jpg?auto=webp&;fit=cover&;height=132&;width=88', 'https://www.metacritic.com/a/img/resize/9a9011a6205b614020440276033aa0de341a8452/catalog/provider/2/2/2-1130a1b0a38ea78a4839c11f2f1d1e47.jpg?auto=webp&;fit=cover&;height=132&;width=88', 'https://www.metacritic.com/a/img/resize/248a1cdabf696a737c2539e55c8222166faeca81/catalog/provider/2/2/2-3502706acbb18993be48635d13fbe8f5.jpg?auto=webp&;fit=cover&;height=132&;width=88', 'https://www.metacritic.com/a/img/resize/cc02ed0a1a1fbbd3b6e1b598fa1165e97a446982/catalog/provider/2/2/2-a16cca0f3b9dd8e8ee22311a9e7cbfdc.jpg?auto=webp&;fit=cover&;height=132&;width=88', 'https://www.metacritic.com/a/img/resize/34dd41b3bf8b3bb20d6ee7fa3498f4dd98d5bbb5/catalog/provider/2/2/2-ab067baa529a72941f05eaa63cdb8d43.jpg?auto=webp&;fit=cover&;height=132&;width=88', 'https://www.metacritic.com/a/img/resize/2f408da9de009312893bb5e22423ecd7c94ec165/catalog/provider/2/2/2-2357c72a3bb337bba697303a6bd67a2d.jpg?auto=webp&;fit=cover&;height=132&;width=88']\n"
     ]
    }
   ],
   "source": [
    "#Find thumbnail URL\n",
    "thumbnails = re.findall(r'<img src=\"(.*?)\" height',datastring)\n",
    "print(f\"Retrieved {len(thumbnails)} movie thumbnails, now time to fix &amp\")\n",
    "\n",
    "fixedURL = []\n",
    "for url in thumbnails:\n",
    "    url = url.replace(\"&amp\", \"&\")\n",
    "    fixedURL.append(url)\n",
    "print(fixedURL)"
   ]
  },
  {
   "cell_type": "code",
   "execution_count": 399,
   "metadata": {},
   "outputs": [
    {
     "name": "stdout",
     "output_type": "stream",
     "text": [
      "Found 24 first match: There is just one week until Kate Mercer's (Charlotte Rampling) 45th wedding anniversary and the planning for the party is going well. But then a letter arrives for her husband (Tom Courtenay). The body of his first love has been discovered, frozen and preserved in the icy glaciers of the Swiss Alps. By the time the party is upon them, five days later, there may not be a marriage left to celebrate. [IFC Films]\n"
     ]
    }
   ],
   "source": [
    "#Find movie description\n",
    "movie_description_expression = r'class=\"c-finderProductCard_description\"><span>(.*?)<\\/span>'\n",
    "movie_description_matches = re.findall(movie_description_expression, datastring)\n",
    "print(f\"Found {len(movie_description_matches)} first match: {movie_description_matches[0]}\")"
   ]
  },
  {
   "cell_type": "code",
   "execution_count": 400,
   "metadata": {},
   "outputs": [
    {
     "data": {
      "text/html": [
       "<div>\n",
       "<style scoped>\n",
       "    .dataframe tbody tr th:only-of-type {\n",
       "        vertical-align: middle;\n",
       "    }\n",
       "\n",
       "    .dataframe tbody tr th {\n",
       "        vertical-align: top;\n",
       "    }\n",
       "\n",
       "    .dataframe thead th {\n",
       "        text-align: right;\n",
       "    }\n",
       "</style>\n",
       "<table border=\"1\" class=\"dataframe\">\n",
       "  <thead>\n",
       "    <tr style=\"text-align: right;\">\n",
       "      <th></th>\n",
       "      <th>Title</th>\n",
       "      <th>Release Date</th>\n",
       "      <th>Metascore</th>\n",
       "      <th>Thumbnail URL</th>\n",
       "      <th>Movie Description</th>\n",
       "    </tr>\n",
       "  </thead>\n",
       "  <tbody>\n",
       "    <tr>\n",
       "      <th>0</th>\n",
       "      <td>45 Years</td>\n",
       "      <td>Dec 23, 2015</td>\n",
       "      <td>94</td>\n",
       "      <td>https://www.metacritic.com/a/img/resize/6a5bd5bbb7974005d66c3fe569c21e3786ea3145/catalog/provider/2/2/2-7e75f9d82b9daa3efdb74ef6d7d5505f.jpg?auto=webp&amp;;fit=cover&amp;;height=132&amp;;width=88</td>\n",
       "      <td>There is just one week until Kate Mercer's (Charlotte Rampling) 45th wedding anniversary and the planning for the party is going well. But then a letter arrives for her husband (Tom Courtenay). The body of his first love has been discovered, frozen and preserved in the icy glaciers of the Swiss Alps. By the time the party is upon them, five days later, there may not be a marriage left to celebrate. [IFC Films]</td>\n",
       "    </tr>\n",
       "    <tr>\n",
       "      <th>1</th>\n",
       "      <td>Carol</td>\n",
       "      <td>Nov 20, 2015</td>\n",
       "      <td>94</td>\n",
       "      <td>https://www.metacritic.com/a/img/resize/7b3783def087f9b94e7a0391870fc81d08cc8449/catalog/provider/2/2/2-f7316f7e14637d049239318771fdd1a0.jpg?auto=webp&amp;;fit=cover&amp;;height=132&amp;;width=88</td>\n",
       "      <td>Set in 1950s New York, two women from very different backgrounds find themselves in the throes of love. A young woman in her 20s, Therese Belivet (Rooney Mara), is a clerk working in a Manhattan department store and dreaming of a more fulfilling life when she meets Carol (Cate Blanchett), an alluring woman trapped in a loveless, convenient marriage. As an immediate connection sparks between them, the innocence of their first encounter dims and their connection deepens. While Carol breaks free from the confines of marriage, her husband (Kyle Chandler) threatens her competence as a mother when Carol’s involvement with Therese and close relationship with her best friend Abby (Sarah Paulson) comes to light. As Carol leaves the comfort of home to travel with Therese, an internal journey of self-discovery coincides with her new sense of space. [TWC]</td>\n",
       "    </tr>\n",
       "    <tr>\n",
       "      <th>2</th>\n",
       "      <td>Inside Out</td>\n",
       "      <td>Jun 19, 2015</td>\n",
       "      <td>94</td>\n",
       "      <td>https://www.metacritic.com/a/img/resize/54c04aa6b209fdf9bf3aface7457b9bfdfd036fc/catalog/provider/2/2/2-ec41dc3dbeb08defaa20a5ff93a1fc64.jpg?auto=webp&amp;;fit=cover&amp;;height=132&amp;;width=88</td>\n",
       "      <td>Growing up can be a bumpy road, and it’s no exception for Riley, who is uprooted from her Midwest life when her father starts a new job in San Francisco. Like all of us, Riley is guided by her emotions: Joy (Amy Poehler), Fear (Bill Hader), Anger (Lewis Black), Disgust (Mindy Kaling) and Sadness (Phyllis Smith). The emotions live in Headquarters, the control center inside Riley’s mind, where they help advise her through everyday life. As Riley and her emotions struggle to adjust to a new life in San Francisco, turmoil ensues in Headquarters. Although Joy, Riley’s main and most important emotion, tries to keep things positive, the emotions conflict on how best to navigate a new city, house, and school. [Pixar]</td>\n",
       "    </tr>\n",
       "    <tr>\n",
       "      <th>3</th>\n",
       "      <td>Spotlight</td>\n",
       "      <td>Nov 6, 2015</td>\n",
       "      <td>93</td>\n",
       "      <td>https://www.metacritic.com/a/img/resize/35758d6a35b5992b36081c441e9dd3869b461a25/catalog/provider/2/2/2-337ed9394803aa3e504a12ae7abf5eaf.jpg?auto=webp&amp;;fit=cover&amp;;height=132&amp;;width=88</td>\n",
       "      <td>Spotlight tells the riveting true story of the Pulitzer Prize-winning Boston Globe investigation that would rock the city and cause a crisis in one of the world’s oldest and most trusted institutions. When the newspaper’s tenacious “Spotlight” team of reporters delve into allegations of abuse in the Catholic Church, their year-long investigation uncovers a decades-long cover-up at the highest levels of Boston's religious, legal, and government establishment, touching off a wave of revelations around the world. [Open Road Films]</td>\n",
       "    </tr>\n",
       "    <tr>\n",
       "      <th>4</th>\n",
       "      <td>Sherpa</td>\n",
       "      <td>Oct 2, 2015</td>\n",
       "      <td>93</td>\n",
       "      <td>https://www.metacritic.com/a/img/resize/ffb78b3e2560281c977d60448ad5b62afc566d14/catalog/provider/2/2/2-83789aa521d7a7a10473bb311623ec41.jpg?auto=webp&amp;;fit=cover&amp;;height=132&amp;;width=88</td>\n",
       "      <td>A fight on Everest? It seemed incredible. But in 2013 news channels around the world reported an ugly brawl at 21,000ft as European climbers fled a mob of angry Sherpas. In 1953, New Zealander Edmund Hillary and Sherpa Tenzing Norgay had reached the summit in a spirit of co-operation and brave optimism. Now climbers and Sherpas were trading insults - even blows. What had happened to the happy, smiling Sherpas and their dedication in getting foreigners to the top of the mountain they hold so sacred? Determined to explore what was going on, the filmmakers set out to make a film of the 2014 Everest climbing season, from the Sherpas' point of view. Instead, they captured a tragedy that would change Everest forever. At 6.45am on 18th April, 2014, a 14 million ton block of ice crashed down onto the climbing route through the Khumbu Icefall, killing 16 Sherpas. It was the worst tragedy in the history of Everest. The disaster provoked a drastic reappraisal about the role of the Sherpas in the Everest industry.</td>\n",
       "    </tr>\n",
       "    <tr>\n",
       "      <th>5</th>\n",
       "      <td>Jafar Panahi's Taxi</td>\n",
       "      <td>Oct 2, 2015</td>\n",
       "      <td>91</td>\n",
       "      <td>https://www.metacritic.com/a/img/resize/15326c4d0f712ca6832ec247faddb0e1258ce29e/catalog/provider/2/2/2-f5310d7eeaa81f567744c9f9fd177786.jpg?auto=webp&amp;;fit=cover&amp;;height=132&amp;;width=88</td>\n",
       "      <td>Director Jafar Panahi drives a yellow cab through the vibrant streets of Tehran, picking up a diverse group of passengers in a single day. Each man, woman, and child candidly expresses his or her own view of the world, while being interviewed by the curious and gracious driver/director. His camera, placed on the dashboard of his mobile film studio, captures a spirited slice of Iranian society while also brilliantly redefining the borders of comedy, drama and cinema. [Kino Lorber]</td>\n",
       "    </tr>\n",
       "    <tr>\n",
       "      <th>6</th>\n",
       "      <td>Son of Saul</td>\n",
       "      <td>Dec 18, 2015</td>\n",
       "      <td>91</td>\n",
       "      <td>https://www.metacritic.com/a/img/resize/d9d1fecde0221a12e51a1411fb4674a6bc08e2b9/catalog/provider/2/2/2-183a271796b8b76982b89bb23729b828.jpg?auto=webp&amp;;fit=cover&amp;;height=132&amp;;width=88</td>\n",
       "      <td>October 1944, Auschwitz-Birkenau. Saul Ausländer is a Hungarian member of the Sonderkommando, the group of Jewish prisoners isolated from the camp and forced to assist the Nazis in the machinery of large-scale extermination. While working in one of the crematoriums, Saul discovers the corpse of a boy he takes for his son. As the Sonderkommando plans a rebellion, Saul decides to carry out an impossible task: save the child’s body from the flames, find a rabbi to recite the mourner’s Kaddish and offer the boy a proper burial.</td>\n",
       "    </tr>\n",
       "    <tr>\n",
       "      <th>7</th>\n",
       "      <td>The Fits</td>\n",
       "      <td>Jun 3, 2016</td>\n",
       "      <td>90</td>\n",
       "      <td>https://www.metacritic.com/a/img/resize/a477607fbcbc44288a2efb27dbcd2eba34469caf/catalog/provider/2/2/2-6467658e5615807af6b270e0a7c4dfea.jpg?auto=webp&amp;;fit=cover&amp;;height=132&amp;;width=88</td>\n",
       "      <td>Toni trains as a boxer with her brother at a community center in Cincinnati’s West End, but becomes fascinated by the dance team that also practices there. Enamored by their strength and confidence, Toni eventually joins the group, eagerly absorbing routines, mastering drills, and even piercing her own ears to fit in. As she discovers the joys of dance and of female camaraderie, she grapples with her individual identity amid her newly defined social sphere. Shortly after Toni joins the team, the captain faints during practice. By the end of the week, most of the girls on the team suffer from episodes of fainting, swooning, moaning, and shaking in a seemingly uncontrollable catharsis. Soon, however, the girls on the team embrace these mysterious spasms, transforming them into a rite of passage. Toni fears “the fits” but is equally afraid of losing her place just as she’s found her footing. Caught between her need for control and her desire for acceptance, Toni must decide how far she will go to embody her new ideals. [Oscilloscope]</td>\n",
       "    </tr>\n",
       "    <tr>\n",
       "      <th>8</th>\n",
       "      <td>Mad Max: Fury Road</td>\n",
       "      <td>May 15, 2015</td>\n",
       "      <td>90</td>\n",
       "      <td>https://www.metacritic.com/a/img/resize/c85a3e6a9f5ba94e5d5e534e33e0aa753a69c994/catalog/provider/2/2/2-94c61ec444cb2ab7e05970eb05bed74f.jpg?auto=webp&amp;;fit=cover&amp;;height=132&amp;;width=88</td>\n",
       "      <td>In the furthest reaches of our planet, in a stark desert landscape where humanity is broken, and everyone is fighting for the necessities of life, there are two rebels who just might be able to restore order—Max (Tom Hardy), a man of action and few words, who seeks peace of mind following the loss of his wife and child in the aftermath of the chaos, and Furiosa (Charlize Theron), a woman of action who believes her path to survival may be achieved if she can make it across the desert back to her childhood homeland.</td>\n",
       "    </tr>\n",
       "    <tr>\n",
       "      <th>9</th>\n",
       "      <td>Paths of the Soul</td>\n",
       "      <td>May 13, 2016</td>\n",
       "      <td>90</td>\n",
       "      <td>https://www.metacritic.com/a/img/resize/ce2103b2a600881db9fa7085dd1a5329c2cb9530/catalog/provider/2/2/2-6e14e1ffeeb8713b51c8d45b2f14fded.jpg?auto=webp&amp;;fit=cover&amp;;height=132&amp;;width=88</td>\n",
       "      <td>Filmmaker Zhang Yang (Shower, Getting Home) blurs the border between documentary and fiction to follow a group of Tibetan villagers who leave their families and homes in the small village of Nyima to make a Buddhist &amp;quot;bowing pilgrimage&amp;quot;-laying their bodies flat on the ground after every few steps-along the 1,200 mile road to Lhasa, the holy capital of Tibet. Though united in their remarkable devotion, each of the travelers embarks on this near impossible journey for very personal reasons. One traveler needs to expunge bad family karma, a butcher wants to cleanse animal bloodstains from his soul, another nearing his life's end, hopes that the prostrations will break the chain of cause and effect determined by his life's actions. [Icarus Films]</td>\n",
       "    </tr>\n",
       "    <tr>\n",
       "      <th>10</th>\n",
       "      <td>Western</td>\n",
       "      <td>Sep 25, 2015</td>\n",
       "      <td>89</td>\n",
       "      <td>https://www.metacritic.com/a/img/resize/1c34e85c886fefddca60973d6d25cc92b426a20d/catalog/provider/2/2/2-9de191ddc38e5e5b759755602f7947f8.jpg?auto=webp&amp;;fit=cover&amp;;height=132&amp;;width=88</td>\n",
       "      <td>For generations, all that distinguished Eagle Pass, TX, from Piedras Negras, MX, was the Rio Grande. But when darkness descends upon these harmonious border towns, a cowboy and lawman face a new reality that threatens their way of life.</td>\n",
       "    </tr>\n",
       "    <tr>\n",
       "      <th>11</th>\n",
       "      <td>Uncertain</td>\n",
       "      <td>Mar 10, 2017</td>\n",
       "      <td>89</td>\n",
       "      <td>https://www.metacritic.com/a/img/resize/3f1c461ebed57e45e64721b559962c2242afee82/catalog/provider/2/2/2-c3f1031e2fcb0f91e85b4e211c4ada39.jpg?auto=webp&amp;;fit=cover&amp;;height=132&amp;;width=88</td>\n",
       "      <td>Uncertain is a visually stunning and disarmingly funny portrait of the literal and figurative troubled waters of Uncertain, Texas. In a 94-resident town so tucked away “you’ve got to be lost to find it&amp;quot;, three Uncertain men make their own bids for survival looking to find a more certain future. An ex-convict obsessed with Mr. Ed, a gigantic boar he hunts in order to stay on the straight and narrow. A young idealist with big plans but few prospects is looking for a bigger life. An aging fisherman learning to let go of his youthful ways, and making peace with a fateful moment thirty years ago. All the while Uncertain’s vast, swampy lake is being choked by an aquatic weed, upsetting the natural balance and the town’s only source of livelihood.</td>\n",
       "    </tr>\n",
       "    <tr>\n",
       "      <th>12</th>\n",
       "      <td>In Transit</td>\n",
       "      <td>Jun 23, 2017</td>\n",
       "      <td>88</td>\n",
       "      <td>https://www.metacritic.com/a/img/resize/877be29946b4f2738fc408e25de3651c218acf97/catalog/provider/2/2/2-bf0c4a7df2dbf79406df83be83ee5a29.jpg?auto=webp&amp;;fit=cover&amp;;height=132&amp;;width=88</td>\n",
       "      <td>In Transit journeys into the hearts and minds of everyday passengers aboard Amtrak's Empire Builder, the busiest long-distance train route in America. Captured in the tradition of Direct Cinema, the film unfolds as a series of interconnected vignettes, ranging from overheard conversations to moments of deep intimacy, in which passengers share their fears, hopes and dreams. In the space between stations, where 'real life' is suspended, we are swept into a fleeting community that transcends normal barriers, and where a peculiar atmosphere of contemplation and community develops. To some passengers, the train is flight and salvation, to others it is reckoning and loss. But for all, it is a place for personal reflection and connecting with others they may otherwise never know.</td>\n",
       "    </tr>\n",
       "    <tr>\n",
       "      <th>13</th>\n",
       "      <td>Everything Is Copy</td>\n",
       "      <td>Mar 11, 2016</td>\n",
       "      <td>88</td>\n",
       "      <td>https://www.metacritic.com/a/img/resize/ed71a3f1b8ae6e345d0f6f219f74b947d9bb8899/catalog/provider/2/2/2-ce827545b84ffb00c3bf49caf97ce035.jpg?auto=webp&amp;;fit=cover&amp;;height=132&amp;;width=88</td>\n",
       "      <td>A look at the life and work of writer/filmmaker Nora Ephron.</td>\n",
       "    </tr>\n",
       "    <tr>\n",
       "      <th>14</th>\n",
       "      <td>Brooklyn</td>\n",
       "      <td>Nov 4, 2015</td>\n",
       "      <td>88</td>\n",
       "      <td>https://www.metacritic.com/a/img/resize/9fe46e9a5b00c37e48716261e678d0dacba3a92f/catalog/provider/2/2/2-704b698e154404711c54c7b26cc76e49.jpg?auto=webp&amp;;fit=cover&amp;;height=132&amp;;width=88</td>\n",
       "      <td>Eilis Lacey (Saoirse Ronan) is a young Irish immigrant navigating her way through 1950s Brooklyn. Lured by the promise of America, Eilis departs Ireland and the comfort of her mother’s home for the shores of New York City. The initial shackles of homesickness quickly diminish as a fresh romance sweeps Eilis into the intoxicating charm of love. But soon, her new vivacity is disrupted by her past, and she must choose between two countries and the lives that exist within. [Fox Searchlight Pictures]</td>\n",
       "    </tr>\n",
       "    <tr>\n",
       "      <th>15</th>\n",
       "      <td>Anomalisa</td>\n",
       "      <td>Dec 30, 2015</td>\n",
       "      <td>88</td>\n",
       "      <td>https://www.metacritic.com/a/img/resize/8238505e9c2869595b300b9c71b79541a39cc3d9/catalog/provider/2/2/2-c3c583ba54a3d966bf157a81aca9cbdf.jpg?auto=webp&amp;;fit=cover&amp;;height=132&amp;;width=88</td>\n",
       "      <td>Michael Stone, an author of books on the subject of customer service, struggles to connect with people. One night, while on a routine business trip, he meets Lisa, a stranger with a unique voice.</td>\n",
       "    </tr>\n",
       "    <tr>\n",
       "      <th>16</th>\n",
       "      <td>Cemetery of Splendor</td>\n",
       "      <td>Mar 4, 2016</td>\n",
       "      <td>88</td>\n",
       "      <td>https://www.metacritic.com/a/img/resize/4a40b66136f85e978a22af40d5d1e295ff5d719e/catalog/provider/2/2/2-194541536911692ea0e72e90719150ca.jpg?auto=webp&amp;;fit=cover&amp;;height=132&amp;;width=88</td>\n",
       "      <td>Soldiers with a mysterious sleeping sickness are transferred to a temporary clinic in a former school. The memory-filled space becomes a revelatory world for housewife and volunteer Jenjira, as she watches over Itt, a handsome soldier with no family visitors. Jen befriends young medium Keng who uses her psychic powers to help loved ones communicate with the comatose men. Doctors explore ways, including coloured light therapy, to ease the mens’ troubled dreams. Jen discovers Itt’s cryptic notebook of strange writings and blueprint sketches. There may be a connection between the soldiers’ enigmatic syndrome and the mythic ancient site that lies beneath the clinic. Magic, healing, romance and dreams are all part of Jen’s tender path to a deeper awareness of herself and the world around her.</td>\n",
       "    </tr>\n",
       "    <tr>\n",
       "      <th>17</th>\n",
       "      <td>My Golden Days</td>\n",
       "      <td>Mar 18, 2016</td>\n",
       "      <td>87</td>\n",
       "      <td>https://www.metacritic.com/a/img/resize/bb65fa86d5cf8ba85737d331a81592258bba6b1e/catalog/provider/2/2/2-8cc8847c1277118aaac02915ad1a1809.jpg?auto=webp&amp;;fit=cover&amp;;height=132&amp;;width=88</td>\n",
       "      <td>Arnaud Desplechin returns to the world of My Sex Life, or … How I Got Into an Argument with My Golden Days, the continued story of Paul Dédalus (Mathieu Amalric), now an anthropologist preparing to leave Tajikistan. Reflecting on his life, he has a series of flashbacks starting from his childhood in Roubaix, his mother's attacks of madness, his father’s alienating depression. He remembers a student trip to the USSR, where a clandestine mission led him to offer up his own identity for a young Russian, whom he considered a phantom twin for the remainder of his life. He remembers university life, and returning to his hometown to party with his sister and her best friend, his shifting circle of friends and their casual betrayals. And most of all he remembers Esther, the beautiful, rude, haughty soul and love of his life. [Magnolia Pictures]</td>\n",
       "    </tr>\n",
       "    <tr>\n",
       "      <th>18</th>\n",
       "      <td>Listen to Me Marlon</td>\n",
       "      <td>Jul 29, 2015</td>\n",
       "      <td>87</td>\n",
       "      <td>https://www.metacritic.com/a/img/resize/3d4bdb79c04a0d2ee0e930c5fc67b85ffe3d7c3d/catalog/provider/2/2/2-f69e092a54cb26f35132af7a9deda246.jpg?auto=webp&amp;;fit=cover&amp;;height=132&amp;;width=88</td>\n",
       "      <td>With exclusive access to personal archive, this is the definitive Marlon Brando cinema documentary. Charting his exceptional career as an actor and extraordinary life away from the stage and screen, the film will fully explore the complexities of the man by telling the story uniquely from Marlon’s perspective. [Showtime]</td>\n",
       "    </tr>\n",
       "    <tr>\n",
       "      <th>19</th>\n",
       "      <td>Happy Hour</td>\n",
       "      <td>Aug 24, 2016</td>\n",
       "      <td>87</td>\n",
       "      <td>https://www.metacritic.com/a/img/resize/9a9011a6205b614020440276033aa0de341a8452/catalog/provider/2/2/2-1130a1b0a38ea78a4839c11f2f1d1e47.jpg?auto=webp&amp;;fit=cover&amp;;height=132&amp;;width=88</td>\n",
       "      <td>Four women. All in their 30s. Three married, one divorcee. They are able to tell each other anything. Or at least they thought. One day, after losing in divorce court, one of them gives up on a future with their partner and disappears. The three remaining women take a second look at their lives. The long night is full of questions. Are you really the you you wanted to be?</td>\n",
       "    </tr>\n",
       "    <tr>\n",
       "      <th>20</th>\n",
       "      <td>The Diary of a Teenage Girl</td>\n",
       "      <td>Aug 7, 2015</td>\n",
       "      <td>87</td>\n",
       "      <td>https://www.metacritic.com/a/img/resize/248a1cdabf696a737c2539e55c8222166faeca81/catalog/provider/2/2/2-3502706acbb18993be48635d13fbe8f5.jpg?auto=webp&amp;;fit=cover&amp;;height=132&amp;;width=88</td>\n",
       "      <td>Like most teenage girls, Minnie Goetze (Bel Powley) is longing for love, acceptance and a sense of purpose in the world. Minnie begins a complex love affair with her mother's (Kristen Wiig) boyfriend, &amp;quot;the handsomest man in the world,&amp;quot; Monroe Rutherford (Alexander Skarsgård). What follows is a sharp, funny and provocative account of one girl's sexual and artistic awakening, without judgment. [Sony Pictures Classics]</td>\n",
       "    </tr>\n",
       "    <tr>\n",
       "      <th>21</th>\n",
       "      <td>Dreamcatcher</td>\n",
       "      <td>Mar 20, 2015</td>\n",
       "      <td>86</td>\n",
       "      <td>https://www.metacritic.com/a/img/resize/cc02ed0a1a1fbbd3b6e1b598fa1165e97a446982/catalog/provider/2/2/2-a16cca0f3b9dd8e8ee22311a9e7cbfdc.jpg?auto=webp&amp;;fit=cover&amp;;height=132&amp;;width=88</td>\n",
       "      <td>For twenty-five years Brenda Myers-Powell called herself Breezy and she dominated her world, or that's what she thought. It was a world that had turned her into a teenage, drug-addicted prostitute. After a violent encounter with a john, Brenda woke up in the hospital and decided to change her life. Today she is a beacon of hope and a pillar of strength for hundreds of women and girls as young as fourteen who want to change their own lives.</td>\n",
       "    </tr>\n",
       "    <tr>\n",
       "      <th>22</th>\n",
       "      <td>Krisha</td>\n",
       "      <td>Mar 18, 2016</td>\n",
       "      <td>86</td>\n",
       "      <td>https://www.metacritic.com/a/img/resize/34dd41b3bf8b3bb20d6ee7fa3498f4dd98d5bbb5/catalog/provider/2/2/2-ab067baa529a72941f05eaa63cdb8d43.jpg?auto=webp&amp;;fit=cover&amp;;height=132&amp;;width=88</td>\n",
       "      <td>When Krisha shows up at her sister's Texas home on Thanksgiving morning, her close and extended family greet her with a mixture of warmth and wariness. Almost immediately, a palpable unease permeates the air, one which only grows in force as Krisha gets to work cooking the turkey and trying to make up for lost time by catching up with her various relatives, chief among them her nephew, Trey. As Krisha's attempts at reconciliation become increasingly rebuffed, tension and suspicion reach their peak, with long-buried secrets and deep-seated resentments coming to the fore as everyone becomes immersed in an emotionally charged familial reckoning. [A24]</td>\n",
       "    </tr>\n",
       "    <tr>\n",
       "      <th>23</th>\n",
       "      <td>Room</td>\n",
       "      <td>Oct 16, 2015</td>\n",
       "      <td>86</td>\n",
       "      <td>https://www.metacritic.com/a/img/resize/2f408da9de009312893bb5e22423ecd7c94ec165/catalog/provider/2/2/2-2357c72a3bb337bba697303a6bd67a2d.jpg?auto=webp&amp;;fit=cover&amp;;height=132&amp;;width=88</td>\n",
       "      <td>Jack (Jacob Tremblay) is a spirited 5 year-old who is looked after by his loving and devoted Ma (Brie Larson).  Like any good mother, Ma dedicates herself to keeping Jack happy and safe, nurturing him with warmth and love and doing typical things like playing games and telling stories. Their life, however, is anything but typical—they are trapped—confined to a windowless, 10-by-10-foot space, which Ma has euphemistically named “Room.” Ma has created a whole universe for Jack within Room, and she will stop at nothing to ensure that, even in this treacherous environment, Jack is able to live a complete and fulfilling life.   But as Jack’s curiosity about their situation grows, and Ma’s resilience reaches its breaking point, they enact a risky plan to escape, ultimately bringing them face-to-face with what may turn out to be the scariest thing yet: the real world.</td>\n",
       "    </tr>\n",
       "  </tbody>\n",
       "</table>\n",
       "</div>"
      ],
      "text/plain": [
       "                          Title  Release Date Metascore  \\\n",
       "0                      45 Years  Dec 23, 2015        94   \n",
       "1                         Carol  Nov 20, 2015        94   \n",
       "2                    Inside Out  Jun 19, 2015        94   \n",
       "3                     Spotlight   Nov 6, 2015        93   \n",
       "4                        Sherpa   Oct 2, 2015        93   \n",
       "5           Jafar Panahi's Taxi   Oct 2, 2015        91   \n",
       "6                   Son of Saul  Dec 18, 2015        91   \n",
       "7                      The Fits   Jun 3, 2016        90   \n",
       "8            Mad Max: Fury Road  May 15, 2015        90   \n",
       "9             Paths of the Soul  May 13, 2016        90   \n",
       "10                      Western  Sep 25, 2015        89   \n",
       "11                    Uncertain  Mar 10, 2017        89   \n",
       "12                   In Transit  Jun 23, 2017        88   \n",
       "13           Everything Is Copy  Mar 11, 2016        88   \n",
       "14                     Brooklyn   Nov 4, 2015        88   \n",
       "15                    Anomalisa  Dec 30, 2015        88   \n",
       "16         Cemetery of Splendor   Mar 4, 2016        88   \n",
       "17               My Golden Days  Mar 18, 2016        87   \n",
       "18          Listen to Me Marlon  Jul 29, 2015        87   \n",
       "19                   Happy Hour  Aug 24, 2016        87   \n",
       "20  The Diary of a Teenage Girl   Aug 7, 2015        87   \n",
       "21                 Dreamcatcher  Mar 20, 2015        86   \n",
       "22                       Krisha  Mar 18, 2016        86   \n",
       "23                         Room  Oct 16, 2015        86   \n",
       "\n",
       "                                                                                                                                                                              Thumbnail URL  \\\n",
       "0   https://www.metacritic.com/a/img/resize/6a5bd5bbb7974005d66c3fe569c21e3786ea3145/catalog/provider/2/2/2-7e75f9d82b9daa3efdb74ef6d7d5505f.jpg?auto=webp&;fit=cover&;height=132&;width=88   \n",
       "1   https://www.metacritic.com/a/img/resize/7b3783def087f9b94e7a0391870fc81d08cc8449/catalog/provider/2/2/2-f7316f7e14637d049239318771fdd1a0.jpg?auto=webp&;fit=cover&;height=132&;width=88   \n",
       "2   https://www.metacritic.com/a/img/resize/54c04aa6b209fdf9bf3aface7457b9bfdfd036fc/catalog/provider/2/2/2-ec41dc3dbeb08defaa20a5ff93a1fc64.jpg?auto=webp&;fit=cover&;height=132&;width=88   \n",
       "3   https://www.metacritic.com/a/img/resize/35758d6a35b5992b36081c441e9dd3869b461a25/catalog/provider/2/2/2-337ed9394803aa3e504a12ae7abf5eaf.jpg?auto=webp&;fit=cover&;height=132&;width=88   \n",
       "4   https://www.metacritic.com/a/img/resize/ffb78b3e2560281c977d60448ad5b62afc566d14/catalog/provider/2/2/2-83789aa521d7a7a10473bb311623ec41.jpg?auto=webp&;fit=cover&;height=132&;width=88   \n",
       "5   https://www.metacritic.com/a/img/resize/15326c4d0f712ca6832ec247faddb0e1258ce29e/catalog/provider/2/2/2-f5310d7eeaa81f567744c9f9fd177786.jpg?auto=webp&;fit=cover&;height=132&;width=88   \n",
       "6   https://www.metacritic.com/a/img/resize/d9d1fecde0221a12e51a1411fb4674a6bc08e2b9/catalog/provider/2/2/2-183a271796b8b76982b89bb23729b828.jpg?auto=webp&;fit=cover&;height=132&;width=88   \n",
       "7   https://www.metacritic.com/a/img/resize/a477607fbcbc44288a2efb27dbcd2eba34469caf/catalog/provider/2/2/2-6467658e5615807af6b270e0a7c4dfea.jpg?auto=webp&;fit=cover&;height=132&;width=88   \n",
       "8   https://www.metacritic.com/a/img/resize/c85a3e6a9f5ba94e5d5e534e33e0aa753a69c994/catalog/provider/2/2/2-94c61ec444cb2ab7e05970eb05bed74f.jpg?auto=webp&;fit=cover&;height=132&;width=88   \n",
       "9   https://www.metacritic.com/a/img/resize/ce2103b2a600881db9fa7085dd1a5329c2cb9530/catalog/provider/2/2/2-6e14e1ffeeb8713b51c8d45b2f14fded.jpg?auto=webp&;fit=cover&;height=132&;width=88   \n",
       "10  https://www.metacritic.com/a/img/resize/1c34e85c886fefddca60973d6d25cc92b426a20d/catalog/provider/2/2/2-9de191ddc38e5e5b759755602f7947f8.jpg?auto=webp&;fit=cover&;height=132&;width=88   \n",
       "11  https://www.metacritic.com/a/img/resize/3f1c461ebed57e45e64721b559962c2242afee82/catalog/provider/2/2/2-c3f1031e2fcb0f91e85b4e211c4ada39.jpg?auto=webp&;fit=cover&;height=132&;width=88   \n",
       "12  https://www.metacritic.com/a/img/resize/877be29946b4f2738fc408e25de3651c218acf97/catalog/provider/2/2/2-bf0c4a7df2dbf79406df83be83ee5a29.jpg?auto=webp&;fit=cover&;height=132&;width=88   \n",
       "13  https://www.metacritic.com/a/img/resize/ed71a3f1b8ae6e345d0f6f219f74b947d9bb8899/catalog/provider/2/2/2-ce827545b84ffb00c3bf49caf97ce035.jpg?auto=webp&;fit=cover&;height=132&;width=88   \n",
       "14  https://www.metacritic.com/a/img/resize/9fe46e9a5b00c37e48716261e678d0dacba3a92f/catalog/provider/2/2/2-704b698e154404711c54c7b26cc76e49.jpg?auto=webp&;fit=cover&;height=132&;width=88   \n",
       "15  https://www.metacritic.com/a/img/resize/8238505e9c2869595b300b9c71b79541a39cc3d9/catalog/provider/2/2/2-c3c583ba54a3d966bf157a81aca9cbdf.jpg?auto=webp&;fit=cover&;height=132&;width=88   \n",
       "16  https://www.metacritic.com/a/img/resize/4a40b66136f85e978a22af40d5d1e295ff5d719e/catalog/provider/2/2/2-194541536911692ea0e72e90719150ca.jpg?auto=webp&;fit=cover&;height=132&;width=88   \n",
       "17  https://www.metacritic.com/a/img/resize/bb65fa86d5cf8ba85737d331a81592258bba6b1e/catalog/provider/2/2/2-8cc8847c1277118aaac02915ad1a1809.jpg?auto=webp&;fit=cover&;height=132&;width=88   \n",
       "18  https://www.metacritic.com/a/img/resize/3d4bdb79c04a0d2ee0e930c5fc67b85ffe3d7c3d/catalog/provider/2/2/2-f69e092a54cb26f35132af7a9deda246.jpg?auto=webp&;fit=cover&;height=132&;width=88   \n",
       "19  https://www.metacritic.com/a/img/resize/9a9011a6205b614020440276033aa0de341a8452/catalog/provider/2/2/2-1130a1b0a38ea78a4839c11f2f1d1e47.jpg?auto=webp&;fit=cover&;height=132&;width=88   \n",
       "20  https://www.metacritic.com/a/img/resize/248a1cdabf696a737c2539e55c8222166faeca81/catalog/provider/2/2/2-3502706acbb18993be48635d13fbe8f5.jpg?auto=webp&;fit=cover&;height=132&;width=88   \n",
       "21  https://www.metacritic.com/a/img/resize/cc02ed0a1a1fbbd3b6e1b598fa1165e97a446982/catalog/provider/2/2/2-a16cca0f3b9dd8e8ee22311a9e7cbfdc.jpg?auto=webp&;fit=cover&;height=132&;width=88   \n",
       "22  https://www.metacritic.com/a/img/resize/34dd41b3bf8b3bb20d6ee7fa3498f4dd98d5bbb5/catalog/provider/2/2/2-ab067baa529a72941f05eaa63cdb8d43.jpg?auto=webp&;fit=cover&;height=132&;width=88   \n",
       "23  https://www.metacritic.com/a/img/resize/2f408da9de009312893bb5e22423ecd7c94ec165/catalog/provider/2/2/2-2357c72a3bb337bba697303a6bd67a2d.jpg?auto=webp&;fit=cover&;height=132&;width=88   \n",
       "\n",
       "                                                                                                                                                                                                                                                                                                                                                                                                                                                                                                                                                                                                                                                                                                                                                                                                                                                                                                                                                                                                                                                                         Movie Description  \n",
       "0                                                                                                                                                                                                                                                                                                                                                                                                                                                                                                                                                                                                                                                            There is just one week until Kate Mercer's (Charlotte Rampling) 45th wedding anniversary and the planning for the party is going well. But then a letter arrives for her husband (Tom Courtenay). The body of his first love has been discovered, frozen and preserved in the icy glaciers of the Swiss Alps. By the time the party is upon them, five days later, there may not be a marriage left to celebrate. [IFC Films]  \n",
       "1                                                                                                                                                                                                  Set in 1950s New York, two women from very different backgrounds find themselves in the throes of love. A young woman in her 20s, Therese Belivet (Rooney Mara), is a clerk working in a Manhattan department store and dreaming of a more fulfilling life when she meets Carol (Cate Blanchett), an alluring woman trapped in a loveless, convenient marriage. As an immediate connection sparks between them, the innocence of their first encounter dims and their connection deepens. While Carol breaks free from the confines of marriage, her husband (Kyle Chandler) threatens her competence as a mother when Carol’s involvement with Therese and close relationship with her best friend Abby (Sarah Paulson) comes to light. As Carol leaves the comfort of home to travel with Therese, an internal journey of self-discovery coincides with her new sense of space. [TWC]  \n",
       "2                                                                                                                                                                                                                                                                                                                                           Growing up can be a bumpy road, and it’s no exception for Riley, who is uprooted from her Midwest life when her father starts a new job in San Francisco. Like all of us, Riley is guided by her emotions: Joy (Amy Poehler), Fear (Bill Hader), Anger (Lewis Black), Disgust (Mindy Kaling) and Sadness (Phyllis Smith). The emotions live in Headquarters, the control center inside Riley’s mind, where they help advise her through everyday life. As Riley and her emotions struggle to adjust to a new life in San Francisco, turmoil ensues in Headquarters. Although Joy, Riley’s main and most important emotion, tries to keep things positive, the emotions conflict on how best to navigate a new city, house, and school. [Pixar]  \n",
       "3                                                                                                                                                                                                                                                                                                                                                                                                                                                                                                                                    Spotlight tells the riveting true story of the Pulitzer Prize-winning Boston Globe investigation that would rock the city and cause a crisis in one of the world’s oldest and most trusted institutions. When the newspaper’s tenacious “Spotlight” team of reporters delve into allegations of abuse in the Catholic Church, their year-long investigation uncovers a decades-long cover-up at the highest levels of Boston's religious, legal, and government establishment, touching off a wave of revelations around the world. [Open Road Films]  \n",
       "4                               A fight on Everest? It seemed incredible. But in 2013 news channels around the world reported an ugly brawl at 21,000ft as European climbers fled a mob of angry Sherpas. In 1953, New Zealander Edmund Hillary and Sherpa Tenzing Norgay had reached the summit in a spirit of co-operation and brave optimism. Now climbers and Sherpas were trading insults - even blows. What had happened to the happy, smiling Sherpas and their dedication in getting foreigners to the top of the mountain they hold so sacred? Determined to explore what was going on, the filmmakers set out to make a film of the 2014 Everest climbing season, from the Sherpas' point of view. Instead, they captured a tragedy that would change Everest forever. At 6.45am on 18th April, 2014, a 14 million ton block of ice crashed down onto the climbing route through the Khumbu Icefall, killing 16 Sherpas. It was the worst tragedy in the history of Everest. The disaster provoked a drastic reappraisal about the role of the Sherpas in the Everest industry.   \n",
       "5                                                                                                                                                                                                                                                                                                                                                                                                                                                                                                                                                                                     Director Jafar Panahi drives a yellow cab through the vibrant streets of Tehran, picking up a diverse group of passengers in a single day. Each man, woman, and child candidly expresses his or her own view of the world, while being interviewed by the curious and gracious driver/director. His camera, placed on the dashboard of his mobile film studio, captures a spirited slice of Iranian society while also brilliantly redefining the borders of comedy, drama and cinema. [Kino Lorber]  \n",
       "6                                                                                                                                                                                                                                                                                                                                                                                                                                                                                                                                        October 1944, Auschwitz-Birkenau. Saul Ausländer is a Hungarian member of the Sonderkommando, the group of Jewish prisoners isolated from the camp and forced to assist the Nazis in the machinery of large-scale extermination. While working in one of the crematoriums, Saul discovers the corpse of a boy he takes for his son. As the Sonderkommando plans a rebellion, Saul decides to carry out an impossible task: save the child’s body from the flames, find a rabbi to recite the mourner’s Kaddish and offer the boy a proper burial.  \n",
       "7   Toni trains as a boxer with her brother at a community center in Cincinnati’s West End, but becomes fascinated by the dance team that also practices there. Enamored by their strength and confidence, Toni eventually joins the group, eagerly absorbing routines, mastering drills, and even piercing her own ears to fit in. As she discovers the joys of dance and of female camaraderie, she grapples with her individual identity amid her newly defined social sphere. Shortly after Toni joins the team, the captain faints during practice. By the end of the week, most of the girls on the team suffer from episodes of fainting, swooning, moaning, and shaking in a seemingly uncontrollable catharsis. Soon, however, the girls on the team embrace these mysterious spasms, transforming them into a rite of passage. Toni fears “the fits” but is equally afraid of losing her place just as she’s found her footing. Caught between her need for control and her desire for acceptance, Toni must decide how far she will go to embody her new ideals. [Oscilloscope]  \n",
       "8                                                                                                                                                                                                                                                                                                                                                                                                                                                                                                                                                  In the furthest reaches of our planet, in a stark desert landscape where humanity is broken, and everyone is fighting for the necessities of life, there are two rebels who just might be able to restore order—Max (Tom Hardy), a man of action and few words, who seeks peace of mind following the loss of his wife and child in the aftermath of the chaos, and Furiosa (Charlize Theron), a woman of action who believes her path to survival may be achieved if she can make it across the desert back to her childhood homeland.  \n",
       "9                                                                                                                                                                                                                                                                                                Filmmaker Zhang Yang (Shower, Getting Home) blurs the border between documentary and fiction to follow a group of Tibetan villagers who leave their families and homes in the small village of Nyima to make a Buddhist &quot;bowing pilgrimage&quot;-laying their bodies flat on the ground after every few steps-along the 1,200 mile road to Lhasa, the holy capital of Tibet. Though united in their remarkable devotion, each of the travelers embarks on this near impossible journey for very personal reasons. One traveler needs to expunge bad family karma, a butcher wants to cleanse animal bloodstains from his soul, another nearing his life's end, hopes that the prostrations will break the chain of cause and effect determined by his life's actions. [Icarus Films]  \n",
       "10                                                                                                                                                                                                                                                                                                                                                                                                                                                                                                                                                                                                                                                                                                                                                                                                                                            For generations, all that distinguished Eagle Pass, TX, from Piedras Negras, MX, was the Rio Grande. But when darkness descends upon these harmonious border towns, a cowboy and lawman face a new reality that threatens their way of life.  \n",
       "11                                                                                                                                                                                                                                                                                                     Uncertain is a visually stunning and disarmingly funny portrait of the literal and figurative troubled waters of Uncertain, Texas. In a 94-resident town so tucked away “you’ve got to be lost to find it&quot;, three Uncertain men make their own bids for survival looking to find a more certain future. An ex-convict obsessed with Mr. Ed, a gigantic boar he hunts in order to stay on the straight and narrow. A young idealist with big plans but few prospects is looking for a bigger life. An aging fisherman learning to let go of his youthful ways, and making peace with a fateful moment thirty years ago. All the while Uncertain’s vast, swampy lake is being choked by an aquatic weed, upsetting the natural balance and the town’s only source of livelihood.  \n",
       "12                                                                                                                                                                                                                                                                         In Transit journeys into the hearts and minds of everyday passengers aboard Amtrak's Empire Builder, the busiest long-distance train route in America. Captured in the tradition of Direct Cinema, the film unfolds as a series of interconnected vignettes, ranging from overheard conversations to moments of deep intimacy, in which passengers share their fears, hopes and dreams. In the space between stations, where 'real life' is suspended, we are swept into a fleeting community that transcends normal barriers, and where a peculiar atmosphere of contemplation and community develops. To some passengers, the train is flight and salvation, to others it is reckoning and loss. But for all, it is a place for personal reflection and connecting with others they may otherwise never know.  \n",
       "13                                                                                                                                                                                                                                                                                                                                                                                                                                                                                                                                                                                                                                                                                                                                                                                                                                                                                                                                                                                                                            A look at the life and work of writer/filmmaker Nora Ephron.  \n",
       "14                                                                                                                                                                                                                                                                                                                                                                                                                                                                                                                                                                    Eilis Lacey (Saoirse Ronan) is a young Irish immigrant navigating her way through 1950s Brooklyn. Lured by the promise of America, Eilis departs Ireland and the comfort of her mother’s home for the shores of New York City. The initial shackles of homesickness quickly diminish as a fresh romance sweeps Eilis into the intoxicating charm of love. But soon, her new vivacity is disrupted by her past, and she must choose between two countries and the lives that exist within. [Fox Searchlight Pictures]  \n",
       "15                                                                                                                                                                                                                                                                                                                                                                                                                                                                                                                                                                                                                                                                                                                                                                                                                                                                                     Michael Stone, an author of books on the subject of customer service, struggles to connect with people. One night, while on a routine business trip, he meets Lisa, a stranger with a unique voice.  \n",
       "16                                                                                                                                                                                                                                                          Soldiers with a mysterious sleeping sickness are transferred to a temporary clinic in a former school. The memory-filled space becomes a revelatory world for housewife and volunteer Jenjira, as she watches over Itt, a handsome soldier with no family visitors. Jen befriends young medium Keng who uses her psychic powers to help loved ones communicate with the comatose men. Doctors explore ways, including coloured light therapy, to ease the mens’ troubled dreams. Jen discovers Itt’s cryptic notebook of strange writings and blueprint sketches. There may be a connection between the soldiers’ enigmatic syndrome and the mythic ancient site that lies beneath the clinic. Magic, healing, romance and dreams are all part of Jen’s tender path to a deeper awareness of herself and the world around her.  \n",
       "17                                                                                                                                                                                                        Arnaud Desplechin returns to the world of My Sex Life, or … How I Got Into an Argument with My Golden Days, the continued story of Paul Dédalus (Mathieu Amalric), now an anthropologist preparing to leave Tajikistan. Reflecting on his life, he has a series of flashbacks starting from his childhood in Roubaix, his mother's attacks of madness, his father’s alienating depression. He remembers a student trip to the USSR, where a clandestine mission led him to offer up his own identity for a young Russian, whom he considered a phantom twin for the remainder of his life. He remembers university life, and returning to his hometown to party with his sister and her best friend, his shifting circle of friends and their casual betrayals. And most of all he remembers Esther, the beautiful, rude, haughty soul and love of his life. [Magnolia Pictures]  \n",
       "18                                                                                                                                                                                                                                                                                                                                                                                                                                                                                                                                                                                                                                                                                                                                                      With exclusive access to personal archive, this is the definitive Marlon Brando cinema documentary. Charting his exceptional career as an actor and extraordinary life away from the stage and screen, the film will fully explore the complexities of the man by telling the story uniquely from Marlon’s perspective. [Showtime]  \n",
       "19                                                                                                                                                                                                                                                                                                                                                                                                                                                                                                                                                                                                                                                                                                  Four women. All in their 30s. Three married, one divorcee. They are able to tell each other anything. Or at least they thought. One day, after losing in divorce court, one of them gives up on a future with their partner and disappears. The three remaining women take a second look at their lives. The long night is full of questions. Are you really the you you wanted to be?  \n",
       "20                                                                                                                                                                                                                                                                                                                                                                                                                                                                                                                                                                                                                                           Like most teenage girls, Minnie Goetze (Bel Powley) is longing for love, acceptance and a sense of purpose in the world. Minnie begins a complex love affair with her mother's (Kristen Wiig) boyfriend, &quot;the handsomest man in the world,&quot; Monroe Rutherford (Alexander Skarsgård). What follows is a sharp, funny and provocative account of one girl's sexual and artistic awakening, without judgment. [Sony Pictures Classics]  \n",
       "21                                                                                                                                                                                                                                                                                                                                                                                                                                                                                                                                                                                                                            For twenty-five years Brenda Myers-Powell called herself Breezy and she dominated her world, or that's what she thought. It was a world that had turned her into a teenage, drug-addicted prostitute. After a violent encounter with a john, Brenda woke up in the hospital and decided to change her life. Today she is a beacon of hope and a pillar of strength for hundreds of women and girls as young as fourteen who want to change their own lives.   \n",
       "22                                                                                                                                                                                                                                                                                                                                                                                                        When Krisha shows up at her sister's Texas home on Thanksgiving morning, her close and extended family greet her with a mixture of warmth and wariness. Almost immediately, a palpable unease permeates the air, one which only grows in force as Krisha gets to work cooking the turkey and trying to make up for lost time by catching up with her various relatives, chief among them her nephew, Trey. As Krisha's attempts at reconciliation become increasingly rebuffed, tension and suspicion reach their peak, with long-buried secrets and deep-seated resentments coming to the fore as everyone becomes immersed in an emotionally charged familial reckoning. [A24]  \n",
       "23                                                                                                                                                                               Jack (Jacob Tremblay) is a spirited 5 year-old who is looked after by his loving and devoted Ma (Brie Larson).  Like any good mother, Ma dedicates herself to keeping Jack happy and safe, nurturing him with warmth and love and doing typical things like playing games and telling stories. Their life, however, is anything but typical—they are trapped—confined to a windowless, 10-by-10-foot space, which Ma has euphemistically named “Room.” Ma has created a whole universe for Jack within Room, and she will stop at nothing to ensure that, even in this treacherous environment, Jack is able to live a complete and fulfilling life.   But as Jack’s curiosity about their situation grows, and Ma’s resilience reaches its breaking point, they enact a risky plan to escape, ultimately bringing them face-to-face with what may turn out to be the scariest thing yet: the real world.  "
      ]
     },
     "metadata": {},
     "output_type": "display_data"
    }
   ],
   "source": [
    "#Create a Pandas dataframe for Movie titles\n",
    "\n",
    "dataset = {\n",
    "        \"Title\": movie_title_matches,\n",
    "        \"Release Date\": release_date_matches,\n",
    "        \"Metascore\": metascore_matches,\n",
    "        \"Thumbnail URL\": fixedURL,\n",
    "        \"Movie Description\": movie_description_matches\n",
    "\n",
    "}\n",
    "dataFrame = pd.DataFrame(dataset)\n",
    "\n",
    "pd.set_option('display.max_rows', None)\n",
    "\n",
    "display(dataFrame)\n",
    "\n",
    "#Credit to Benger Lei for pointing out Pandas use"
   ]
  }
 ],
 "metadata": {
  "kernelspec": {
   "display_name": "Python 3",
   "language": "python",
   "name": "python3"
  },
  "language_info": {
   "codemirror_mode": {
    "name": "ipython",
    "version": 3
   },
   "file_extension": ".py",
   "mimetype": "text/x-python",
   "name": "python",
   "nbconvert_exporter": "python",
   "pygments_lexer": "ipython3",
   "version": "3.11.5"
  },
  "orig_nbformat": 4
 },
 "nbformat": 4,
 "nbformat_minor": 2
}
