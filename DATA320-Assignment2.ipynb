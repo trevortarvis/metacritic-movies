{
 "cells": [
  {
   "cell_type": "markdown",
   "metadata": {},
   "source": [
    "This assignment is to webscrape the metacritic website to showcase top movies from 2015"
   ]
  },
  {
   "cell_type": "code",
   "execution_count": 1,
   "metadata": {},
   "outputs": [
    {
     "name": "stdout",
     "output_type": "stream",
     "text": [
      "Requirement already satisfied: urllib3 in c:\\users\\trevor\\appdata\\local\\programs\\python\\python311\\lib\\site-packages (2.0.5)\n",
      "Note: you may need to restart the kernel to use updated packages.\n"
     ]
    }
   ],
   "source": [
    "pip install urllib3"
   ]
  },
  {
   "cell_type": "code",
   "execution_count": 2,
   "metadata": {},
   "outputs": [
    {
     "name": "stdout",
     "output_type": "stream",
     "text": [
      "Requirement already satisfied: certifi in c:\\users\\trevor\\appdata\\local\\programs\\python\\python311\\lib\\site-packages (2023.7.22)\n",
      "Note: you may need to restart the kernel to use updated packages.\n"
     ]
    }
   ],
   "source": [
    "pip install certifi"
   ]
  },
  {
   "cell_type": "code",
   "execution_count": 3,
   "metadata": {},
   "outputs": [
    {
     "name": "stdout",
     "output_type": "stream",
     "text": [
      "Requirement already satisfied: pandas in c:\\users\\trevor\\appdata\\local\\programs\\python\\python311\\lib\\site-packages (2.1.1)\n",
      "Requirement already satisfied: numpy>=1.23.2 in c:\\users\\trevor\\appdata\\local\\programs\\python\\python311\\lib\\site-packages (from pandas) (1.26.0)\n",
      "Requirement already satisfied: python-dateutil>=2.8.2 in c:\\users\\trevor\\appdata\\roaming\\python\\python311\\site-packages (from pandas) (2.8.2)\n",
      "Requirement already satisfied: pytz>=2020.1 in c:\\users\\trevor\\appdata\\local\\programs\\python\\python311\\lib\\site-packages (from pandas) (2023.3.post1)\n",
      "Requirement already satisfied: tzdata>=2022.1 in c:\\users\\trevor\\appdata\\local\\programs\\python\\python311\\lib\\site-packages (from pandas) (2023.3)\n",
      "Requirement already satisfied: six>=1.5 in c:\\users\\trevor\\appdata\\roaming\\python\\python311\\site-packages (from python-dateutil>=2.8.2->pandas) (1.16.0)\n",
      "Note: you may need to restart the kernel to use updated packages.\n"
     ]
    }
   ],
   "source": [
    "pip install pandas"
   ]
  },
  {
   "cell_type": "code",
   "execution_count": 4,
   "metadata": {},
   "outputs": [
    {
     "name": "stdout",
     "output_type": "stream",
     "text": [
      "200\n",
      "345906\n"
     ]
    }
   ],
   "source": [
    "#I retrieve the text of the metacritic page\n",
    "import urllib3 #importing libraries\n",
    "import certifi\n",
    "import re\n",
    "import pandas as pd\n",
    "\n",
    "link = \"https://www.metacritic.com/browse/movie/all/all/2015/metascore/?page=1\"\n",
    "\n",
    "http = urllib3.PoolManager(ca_certs=certifi.where())\n",
    "\n",
    "r = http.request('GET', link, headers={ \"user-agent\": \"Chrome/86.0.4240.111\"} )\n",
    "#Credit to Benger Lei for sharing headers code\n",
    "\n",
    "datastring = str(r.data, \"utf-8\")\n",
    "\n",
    "print(r.status)\n",
    "print(len(datastring))"
   ]
  },
  {
   "cell_type": "code",
   "execution_count": 5,
   "metadata": {},
   "outputs": [
    {
     "name": "stdout",
     "output_type": "stream",
     "text": [
      "Found 24 matches. The first match is: '45 Years'\n"
     ]
    }
   ],
   "source": [
    "#Find movie titles\n",
    "movie_title_expression = r'<div data-title=\"(.*?)\"'\n",
    "movie_title_matches = re.findall(movie_title_expression, datastring)\n",
    "print(f\"Found {len(movie_title_matches)} matches. The first match is: '{movie_title_matches[0]}'\")"
   ]
  },
  {
   "cell_type": "code",
   "execution_count": 6,
   "metadata": {},
   "outputs": [
    {
     "name": "stdout",
     "output_type": "stream",
     "text": [
      "Found 24 first match: Dec 23, 2015.\n"
     ]
    }
   ],
   "source": [
    "#Find Movie Release Date\n",
    "release_date_expression = r'span class=\"u-text-uppercase\">\\s+(.*)'\n",
    "release_date_matches = re.findall(release_date_expression, datastring)\n",
    "print(f\"Found {len(release_date_matches)} first match: {release_date_matches[0]}.\")"
   ]
  },
  {
   "cell_type": "code",
   "execution_count": 7,
   "metadata": {},
   "outputs": [
    {
     "name": "stdout",
     "output_type": "stream",
     "text": [
      "Found 24 first match : 94\n"
     ]
    }
   ],
   "source": [
    "#Find Metascore\n",
    "metascore_expression = r'<div title=\"Metascore (.*?) out of 100\"'\n",
    "metascore_matches = re.findall(metascore_expression, datastring)\n",
    "print(f\"Found {len(metascore_matches)} first match : {metascore_matches[0]}\")"
   ]
  },
  {
   "cell_type": "code",
   "execution_count": 8,
   "metadata": {},
   "outputs": [
    {
     "name": "stdout",
     "output_type": "stream",
     "text": [
      "Retrieved 24 movie thumbnails, now time to fix &amp\n",
      "['https://www.metacritic.com/a/img/resize/6a5bd5bbb7974005d66c3fe569c21e3786ea3145/catalog/provider/2/2/2-7e75f9d82b9daa3efdb74ef6d7d5505f.jpg?auto=webp&;fit=cover&;height=132&;width=88', 'https://www.metacritic.com/a/img/resize/7b3783def087f9b94e7a0391870fc81d08cc8449/catalog/provider/2/2/2-f7316f7e14637d049239318771fdd1a0.jpg?auto=webp&;fit=cover&;height=132&;width=88', 'https://www.metacritic.com/a/img/resize/54c04aa6b209fdf9bf3aface7457b9bfdfd036fc/catalog/provider/2/2/2-ec41dc3dbeb08defaa20a5ff93a1fc64.jpg?auto=webp&;fit=cover&;height=132&;width=88', 'https://www.metacritic.com/a/img/resize/35758d6a35b5992b36081c441e9dd3869b461a25/catalog/provider/2/2/2-337ed9394803aa3e504a12ae7abf5eaf.jpg?auto=webp&;fit=cover&;height=132&;width=88', 'https://www.metacritic.com/a/img/resize/ffb78b3e2560281c977d60448ad5b62afc566d14/catalog/provider/2/2/2-83789aa521d7a7a10473bb311623ec41.jpg?auto=webp&;fit=cover&;height=132&;width=88', 'https://www.metacritic.com/a/img/resize/15326c4d0f712ca6832ec247faddb0e1258ce29e/catalog/provider/2/2/2-f5310d7eeaa81f567744c9f9fd177786.jpg?auto=webp&;fit=cover&;height=132&;width=88', 'https://www.metacritic.com/a/img/resize/d9d1fecde0221a12e51a1411fb4674a6bc08e2b9/catalog/provider/2/2/2-183a271796b8b76982b89bb23729b828.jpg?auto=webp&;fit=cover&;height=132&;width=88', 'https://www.metacritic.com/a/img/resize/a477607fbcbc44288a2efb27dbcd2eba34469caf/catalog/provider/2/2/2-6467658e5615807af6b270e0a7c4dfea.jpg?auto=webp&;fit=cover&;height=132&;width=88', 'https://www.metacritic.com/a/img/resize/c85a3e6a9f5ba94e5d5e534e33e0aa753a69c994/catalog/provider/2/2/2-94c61ec444cb2ab7e05970eb05bed74f.jpg?auto=webp&;fit=cover&;height=132&;width=88', 'https://www.metacritic.com/a/img/resize/ce2103b2a600881db9fa7085dd1a5329c2cb9530/catalog/provider/2/2/2-6e14e1ffeeb8713b51c8d45b2f14fded.jpg?auto=webp&;fit=cover&;height=132&;width=88', 'https://www.metacritic.com/a/img/resize/1c34e85c886fefddca60973d6d25cc92b426a20d/catalog/provider/2/2/2-9de191ddc38e5e5b759755602f7947f8.jpg?auto=webp&;fit=cover&;height=132&;width=88', 'https://www.metacritic.com/a/img/resize/3f1c461ebed57e45e64721b559962c2242afee82/catalog/provider/2/2/2-c3f1031e2fcb0f91e85b4e211c4ada39.jpg?auto=webp&;fit=cover&;height=132&;width=88', 'https://www.metacritic.com/a/img/resize/877be29946b4f2738fc408e25de3651c218acf97/catalog/provider/2/2/2-bf0c4a7df2dbf79406df83be83ee5a29.jpg?auto=webp&;fit=cover&;height=132&;width=88', 'https://www.metacritic.com/a/img/resize/ed71a3f1b8ae6e345d0f6f219f74b947d9bb8899/catalog/provider/2/2/2-ce827545b84ffb00c3bf49caf97ce035.jpg?auto=webp&;fit=cover&;height=132&;width=88', 'https://www.metacritic.com/a/img/resize/9fe46e9a5b00c37e48716261e678d0dacba3a92f/catalog/provider/2/2/2-704b698e154404711c54c7b26cc76e49.jpg?auto=webp&;fit=cover&;height=132&;width=88', 'https://www.metacritic.com/a/img/resize/8238505e9c2869595b300b9c71b79541a39cc3d9/catalog/provider/2/2/2-c3c583ba54a3d966bf157a81aca9cbdf.jpg?auto=webp&;fit=cover&;height=132&;width=88', 'https://www.metacritic.com/a/img/resize/4a40b66136f85e978a22af40d5d1e295ff5d719e/catalog/provider/2/2/2-194541536911692ea0e72e90719150ca.jpg?auto=webp&;fit=cover&;height=132&;width=88', 'https://www.metacritic.com/a/img/resize/bb65fa86d5cf8ba85737d331a81592258bba6b1e/catalog/provider/2/2/2-8cc8847c1277118aaac02915ad1a1809.jpg?auto=webp&;fit=cover&;height=132&;width=88', 'https://www.metacritic.com/a/img/resize/3d4bdb79c04a0d2ee0e930c5fc67b85ffe3d7c3d/catalog/provider/2/2/2-f69e092a54cb26f35132af7a9deda246.jpg?auto=webp&;fit=cover&;height=132&;width=88', 'https://www.metacritic.com/a/img/resize/9a9011a6205b614020440276033aa0de341a8452/catalog/provider/2/2/2-1130a1b0a38ea78a4839c11f2f1d1e47.jpg?auto=webp&;fit=cover&;height=132&;width=88', 'https://www.metacritic.com/a/img/resize/248a1cdabf696a737c2539e55c8222166faeca81/catalog/provider/2/2/2-3502706acbb18993be48635d13fbe8f5.jpg?auto=webp&;fit=cover&;height=132&;width=88', 'https://www.metacritic.com/a/img/resize/cc02ed0a1a1fbbd3b6e1b598fa1165e97a446982/catalog/provider/2/2/2-a16cca0f3b9dd8e8ee22311a9e7cbfdc.jpg?auto=webp&;fit=cover&;height=132&;width=88', 'https://www.metacritic.com/a/img/resize/34dd41b3bf8b3bb20d6ee7fa3498f4dd98d5bbb5/catalog/provider/2/2/2-ab067baa529a72941f05eaa63cdb8d43.jpg?auto=webp&;fit=cover&;height=132&;width=88', 'https://www.metacritic.com/a/img/resize/2f408da9de009312893bb5e22423ecd7c94ec165/catalog/provider/2/2/2-2357c72a3bb337bba697303a6bd67a2d.jpg?auto=webp&;fit=cover&;height=132&;width=88']\n"
     ]
    }
   ],
   "source": [
    "#Find thumbnail URL\n",
    "thumbnails = re.findall(r'<img src=\"(.*?)\" height',datastring)\n",
    "print(f\"Retrieved {len(thumbnails)} movie thumbnails, now time to fix &amp\")\n",
    "\n",
    "fixedURL = []\n",
    "for url in thumbnails:\n",
    "    url = url.replace(\"&amp\", \"&\")\n",
    "    fixedURL.append(url)\n",
    "print(fixedURL)"
   ]
  },
  {
   "cell_type": "code",
   "execution_count": 9,
   "metadata": {},
   "outputs": [
    {
     "name": "stdout",
     "output_type": "stream",
     "text": [
      "Found 24 first match: There is just one week until Kate Mercer's (Charlotte Rampling) 45th wedding anniversary and the planning for the party is going well. But then a letter arrives for her husband (Tom Courtenay). The body of his first love has been discovered, frozen and preserved in the icy glaciers of the Swiss Alps. By the time the party is upon them, five days later, there may not be a marriage left to celebrate. [IFC Films]\n"
     ]
    }
   ],
   "source": [
    "#Find movie description\n",
    "movie_description_expression = r'class=\"c-finderProductCard_description\"><span>(.*?)<\\/span>'\n",
    "movie_description_matches = re.findall(movie_description_expression, datastring)\n",
    "print(f\"Found {len(movie_description_matches)} first match: {movie_description_matches[0]}\")"
   ]
  },
  {
   "cell_type": "code",
   "execution_count": 10,
   "metadata": {},
   "outputs": [
    {
     "data": {
      "text/html": [
       "<div>\n",
       "<style scoped>\n",
       "    .dataframe tbody tr th:only-of-type {\n",
       "        vertical-align: middle;\n",
       "    }\n",
       "\n",
       "    .dataframe tbody tr th {\n",
       "        vertical-align: top;\n",
       "    }\n",
       "\n",
       "    .dataframe thead th {\n",
       "        text-align: right;\n",
       "    }\n",
       "</style>\n",
       "<table border=\"1\" class=\"dataframe\">\n",
       "  <thead>\n",
       "    <tr style=\"text-align: right;\">\n",
       "      <th></th>\n",
       "      <th>Title</th>\n",
       "      <th>Release Date</th>\n",
       "      <th>Metascore</th>\n",
       "      <th>Thumbnail URL</th>\n",
       "      <th>Movie Description</th>\n",
       "    </tr>\n",
       "  </thead>\n",
       "  <tbody>\n",
       "    <tr>\n",
       "      <th>0</th>\n",
       "      <td>45 Years</td>\n",
       "      <td>Dec 23, 2015</td>\n",
       "      <td>94</td>\n",
       "      <td>https://www.metacritic.com/a/img/resize/6a5bd5...</td>\n",
       "      <td>There is just one week until Kate Mercer's (Ch...</td>\n",
       "    </tr>\n",
       "    <tr>\n",
       "      <th>1</th>\n",
       "      <td>Carol</td>\n",
       "      <td>Nov 20, 2015</td>\n",
       "      <td>94</td>\n",
       "      <td>https://www.metacritic.com/a/img/resize/7b3783...</td>\n",
       "      <td>Set in 1950s New York, two women from very dif...</td>\n",
       "    </tr>\n",
       "    <tr>\n",
       "      <th>2</th>\n",
       "      <td>Inside Out</td>\n",
       "      <td>Jun 19, 2015</td>\n",
       "      <td>94</td>\n",
       "      <td>https://www.metacritic.com/a/img/resize/54c04a...</td>\n",
       "      <td>Growing up can be a bumpy road, and it’s no ex...</td>\n",
       "    </tr>\n",
       "    <tr>\n",
       "      <th>3</th>\n",
       "      <td>Spotlight</td>\n",
       "      <td>Nov 6, 2015</td>\n",
       "      <td>93</td>\n",
       "      <td>https://www.metacritic.com/a/img/resize/35758d...</td>\n",
       "      <td>Spotlight tells the riveting true story of the...</td>\n",
       "    </tr>\n",
       "    <tr>\n",
       "      <th>4</th>\n",
       "      <td>Sherpa</td>\n",
       "      <td>Oct 2, 2015</td>\n",
       "      <td>93</td>\n",
       "      <td>https://www.metacritic.com/a/img/resize/ffb78b...</td>\n",
       "      <td>A fight on Everest? It seemed incredible. But ...</td>\n",
       "    </tr>\n",
       "    <tr>\n",
       "      <th>5</th>\n",
       "      <td>Jafar Panahi's Taxi</td>\n",
       "      <td>Oct 2, 2015</td>\n",
       "      <td>91</td>\n",
       "      <td>https://www.metacritic.com/a/img/resize/15326c...</td>\n",
       "      <td>Director Jafar Panahi drives a yellow cab thro...</td>\n",
       "    </tr>\n",
       "    <tr>\n",
       "      <th>6</th>\n",
       "      <td>Son of Saul</td>\n",
       "      <td>Dec 18, 2015</td>\n",
       "      <td>91</td>\n",
       "      <td>https://www.metacritic.com/a/img/resize/d9d1fe...</td>\n",
       "      <td>October 1944, Auschwitz-Birkenau. Saul Ausländ...</td>\n",
       "    </tr>\n",
       "    <tr>\n",
       "      <th>7</th>\n",
       "      <td>The Fits</td>\n",
       "      <td>Jun 3, 2016</td>\n",
       "      <td>90</td>\n",
       "      <td>https://www.metacritic.com/a/img/resize/a47760...</td>\n",
       "      <td>Toni trains as a boxer with her brother at a c...</td>\n",
       "    </tr>\n",
       "    <tr>\n",
       "      <th>8</th>\n",
       "      <td>Mad Max: Fury Road</td>\n",
       "      <td>May 15, 2015</td>\n",
       "      <td>90</td>\n",
       "      <td>https://www.metacritic.com/a/img/resize/c85a3e...</td>\n",
       "      <td>In the furthest reaches of our planet, in a st...</td>\n",
       "    </tr>\n",
       "    <tr>\n",
       "      <th>9</th>\n",
       "      <td>Paths of the Soul</td>\n",
       "      <td>May 13, 2016</td>\n",
       "      <td>90</td>\n",
       "      <td>https://www.metacritic.com/a/img/resize/ce2103...</td>\n",
       "      <td>Filmmaker Zhang Yang (Shower, Getting Home) bl...</td>\n",
       "    </tr>\n",
       "    <tr>\n",
       "      <th>10</th>\n",
       "      <td>Western</td>\n",
       "      <td>Sep 25, 2015</td>\n",
       "      <td>89</td>\n",
       "      <td>https://www.metacritic.com/a/img/resize/1c34e8...</td>\n",
       "      <td>For generations, all that distinguished Eagle ...</td>\n",
       "    </tr>\n",
       "    <tr>\n",
       "      <th>11</th>\n",
       "      <td>Uncertain</td>\n",
       "      <td>Mar 10, 2017</td>\n",
       "      <td>89</td>\n",
       "      <td>https://www.metacritic.com/a/img/resize/3f1c46...</td>\n",
       "      <td>Uncertain is a visually stunning and disarming...</td>\n",
       "    </tr>\n",
       "    <tr>\n",
       "      <th>12</th>\n",
       "      <td>In Transit</td>\n",
       "      <td>Jun 23, 2017</td>\n",
       "      <td>88</td>\n",
       "      <td>https://www.metacritic.com/a/img/resize/877be2...</td>\n",
       "      <td>In Transit journeys into the hearts and minds ...</td>\n",
       "    </tr>\n",
       "    <tr>\n",
       "      <th>13</th>\n",
       "      <td>Everything Is Copy</td>\n",
       "      <td>Mar 11, 2016</td>\n",
       "      <td>88</td>\n",
       "      <td>https://www.metacritic.com/a/img/resize/ed71a3...</td>\n",
       "      <td>A look at the life and work of writer/filmmake...</td>\n",
       "    </tr>\n",
       "    <tr>\n",
       "      <th>14</th>\n",
       "      <td>Brooklyn</td>\n",
       "      <td>Nov 4, 2015</td>\n",
       "      <td>88</td>\n",
       "      <td>https://www.metacritic.com/a/img/resize/9fe46e...</td>\n",
       "      <td>Eilis Lacey (Saoirse Ronan) is a young Irish i...</td>\n",
       "    </tr>\n",
       "    <tr>\n",
       "      <th>15</th>\n",
       "      <td>Anomalisa</td>\n",
       "      <td>Dec 30, 2015</td>\n",
       "      <td>88</td>\n",
       "      <td>https://www.metacritic.com/a/img/resize/823850...</td>\n",
       "      <td>Michael Stone, an author of books on the subje...</td>\n",
       "    </tr>\n",
       "    <tr>\n",
       "      <th>16</th>\n",
       "      <td>Cemetery of Splendor</td>\n",
       "      <td>Mar 4, 2016</td>\n",
       "      <td>88</td>\n",
       "      <td>https://www.metacritic.com/a/img/resize/4a40b6...</td>\n",
       "      <td>Soldiers with a mysterious sleeping sickness a...</td>\n",
       "    </tr>\n",
       "    <tr>\n",
       "      <th>17</th>\n",
       "      <td>My Golden Days</td>\n",
       "      <td>Mar 18, 2016</td>\n",
       "      <td>87</td>\n",
       "      <td>https://www.metacritic.com/a/img/resize/bb65fa...</td>\n",
       "      <td>Arnaud Desplechin returns to the world of My S...</td>\n",
       "    </tr>\n",
       "    <tr>\n",
       "      <th>18</th>\n",
       "      <td>Listen to Me Marlon</td>\n",
       "      <td>Jul 29, 2015</td>\n",
       "      <td>87</td>\n",
       "      <td>https://www.metacritic.com/a/img/resize/3d4bdb...</td>\n",
       "      <td>With exclusive access to personal archive, thi...</td>\n",
       "    </tr>\n",
       "    <tr>\n",
       "      <th>19</th>\n",
       "      <td>Happy Hour</td>\n",
       "      <td>Aug 24, 2016</td>\n",
       "      <td>87</td>\n",
       "      <td>https://www.metacritic.com/a/img/resize/9a9011...</td>\n",
       "      <td>Four women. All in their 30s. Three married, o...</td>\n",
       "    </tr>\n",
       "    <tr>\n",
       "      <th>20</th>\n",
       "      <td>The Diary of a Teenage Girl</td>\n",
       "      <td>Aug 7, 2015</td>\n",
       "      <td>87</td>\n",
       "      <td>https://www.metacritic.com/a/img/resize/248a1c...</td>\n",
       "      <td>Like most teenage girls, Minnie Goetze (Bel Po...</td>\n",
       "    </tr>\n",
       "    <tr>\n",
       "      <th>21</th>\n",
       "      <td>Dreamcatcher</td>\n",
       "      <td>Mar 20, 2015</td>\n",
       "      <td>86</td>\n",
       "      <td>https://www.metacritic.com/a/img/resize/cc02ed...</td>\n",
       "      <td>For twenty-five years Brenda Myers-Powell call...</td>\n",
       "    </tr>\n",
       "    <tr>\n",
       "      <th>22</th>\n",
       "      <td>Krisha</td>\n",
       "      <td>Mar 18, 2016</td>\n",
       "      <td>86</td>\n",
       "      <td>https://www.metacritic.com/a/img/resize/34dd41...</td>\n",
       "      <td>When Krisha shows up at her sister's Texas hom...</td>\n",
       "    </tr>\n",
       "    <tr>\n",
       "      <th>23</th>\n",
       "      <td>Room</td>\n",
       "      <td>Oct 16, 2015</td>\n",
       "      <td>86</td>\n",
       "      <td>https://www.metacritic.com/a/img/resize/2f408d...</td>\n",
       "      <td>Jack (Jacob Tremblay) is a spirited 5 year-old...</td>\n",
       "    </tr>\n",
       "  </tbody>\n",
       "</table>\n",
       "</div>"
      ],
      "text/plain": [
       "                          Title  Release Date Metascore  \\\n",
       "0                      45 Years  Dec 23, 2015        94   \n",
       "1                         Carol  Nov 20, 2015        94   \n",
       "2                    Inside Out  Jun 19, 2015        94   \n",
       "3                     Spotlight   Nov 6, 2015        93   \n",
       "4                        Sherpa   Oct 2, 2015        93   \n",
       "5           Jafar Panahi's Taxi   Oct 2, 2015        91   \n",
       "6                   Son of Saul  Dec 18, 2015        91   \n",
       "7                      The Fits   Jun 3, 2016        90   \n",
       "8            Mad Max: Fury Road  May 15, 2015        90   \n",
       "9             Paths of the Soul  May 13, 2016        90   \n",
       "10                      Western  Sep 25, 2015        89   \n",
       "11                    Uncertain  Mar 10, 2017        89   \n",
       "12                   In Transit  Jun 23, 2017        88   \n",
       "13           Everything Is Copy  Mar 11, 2016        88   \n",
       "14                     Brooklyn   Nov 4, 2015        88   \n",
       "15                    Anomalisa  Dec 30, 2015        88   \n",
       "16         Cemetery of Splendor   Mar 4, 2016        88   \n",
       "17               My Golden Days  Mar 18, 2016        87   \n",
       "18          Listen to Me Marlon  Jul 29, 2015        87   \n",
       "19                   Happy Hour  Aug 24, 2016        87   \n",
       "20  The Diary of a Teenage Girl   Aug 7, 2015        87   \n",
       "21                 Dreamcatcher  Mar 20, 2015        86   \n",
       "22                       Krisha  Mar 18, 2016        86   \n",
       "23                         Room  Oct 16, 2015        86   \n",
       "\n",
       "                                        Thumbnail URL  \\\n",
       "0   https://www.metacritic.com/a/img/resize/6a5bd5...   \n",
       "1   https://www.metacritic.com/a/img/resize/7b3783...   \n",
       "2   https://www.metacritic.com/a/img/resize/54c04a...   \n",
       "3   https://www.metacritic.com/a/img/resize/35758d...   \n",
       "4   https://www.metacritic.com/a/img/resize/ffb78b...   \n",
       "5   https://www.metacritic.com/a/img/resize/15326c...   \n",
       "6   https://www.metacritic.com/a/img/resize/d9d1fe...   \n",
       "7   https://www.metacritic.com/a/img/resize/a47760...   \n",
       "8   https://www.metacritic.com/a/img/resize/c85a3e...   \n",
       "9   https://www.metacritic.com/a/img/resize/ce2103...   \n",
       "10  https://www.metacritic.com/a/img/resize/1c34e8...   \n",
       "11  https://www.metacritic.com/a/img/resize/3f1c46...   \n",
       "12  https://www.metacritic.com/a/img/resize/877be2...   \n",
       "13  https://www.metacritic.com/a/img/resize/ed71a3...   \n",
       "14  https://www.metacritic.com/a/img/resize/9fe46e...   \n",
       "15  https://www.metacritic.com/a/img/resize/823850...   \n",
       "16  https://www.metacritic.com/a/img/resize/4a40b6...   \n",
       "17  https://www.metacritic.com/a/img/resize/bb65fa...   \n",
       "18  https://www.metacritic.com/a/img/resize/3d4bdb...   \n",
       "19  https://www.metacritic.com/a/img/resize/9a9011...   \n",
       "20  https://www.metacritic.com/a/img/resize/248a1c...   \n",
       "21  https://www.metacritic.com/a/img/resize/cc02ed...   \n",
       "22  https://www.metacritic.com/a/img/resize/34dd41...   \n",
       "23  https://www.metacritic.com/a/img/resize/2f408d...   \n",
       "\n",
       "                                    Movie Description  \n",
       "0   There is just one week until Kate Mercer's (Ch...  \n",
       "1   Set in 1950s New York, two women from very dif...  \n",
       "2   Growing up can be a bumpy road, and it’s no ex...  \n",
       "3   Spotlight tells the riveting true story of the...  \n",
       "4   A fight on Everest? It seemed incredible. But ...  \n",
       "5   Director Jafar Panahi drives a yellow cab thro...  \n",
       "6   October 1944, Auschwitz-Birkenau. Saul Ausländ...  \n",
       "7   Toni trains as a boxer with her brother at a c...  \n",
       "8   In the furthest reaches of our planet, in a st...  \n",
       "9   Filmmaker Zhang Yang (Shower, Getting Home) bl...  \n",
       "10  For generations, all that distinguished Eagle ...  \n",
       "11  Uncertain is a visually stunning and disarming...  \n",
       "12  In Transit journeys into the hearts and minds ...  \n",
       "13  A look at the life and work of writer/filmmake...  \n",
       "14  Eilis Lacey (Saoirse Ronan) is a young Irish i...  \n",
       "15  Michael Stone, an author of books on the subje...  \n",
       "16  Soldiers with a mysterious sleeping sickness a...  \n",
       "17  Arnaud Desplechin returns to the world of My S...  \n",
       "18  With exclusive access to personal archive, thi...  \n",
       "19  Four women. All in their 30s. Three married, o...  \n",
       "20  Like most teenage girls, Minnie Goetze (Bel Po...  \n",
       "21  For twenty-five years Brenda Myers-Powell call...  \n",
       "22  When Krisha shows up at her sister's Texas hom...  \n",
       "23  Jack (Jacob Tremblay) is a spirited 5 year-old...  "
      ]
     },
     "metadata": {},
     "output_type": "display_data"
    }
   ],
   "source": [
    "#Create a Pandas dataframe for Movie titles\n",
    "\n",
    "dataset = {\n",
    "        \"Title\": movie_title_matches,\n",
    "        \"Release Date\": release_date_matches,\n",
    "        \"Metascore\": metascore_matches,\n",
    "        \"Thumbnail URL\": fixedURL,\n",
    "        \"Movie Description\": movie_description_matches\n",
    "\n",
    "}\n",
    "dataFrame = pd.DataFrame(dataset)\n",
    "\n",
    "pd.set_option('display.max_rows', None)\n",
    "\n",
    "display(dataFrame)\n",
    "\n",
    "#Credit to Benger Lei for pointing out Pandas use"
   ]
  }
 ],
 "metadata": {
  "kernelspec": {
   "display_name": "Python 3",
   "language": "python",
   "name": "python3"
  },
  "language_info": {
   "codemirror_mode": {
    "name": "ipython",
    "version": 3
   },
   "file_extension": ".py",
   "mimetype": "text/x-python",
   "name": "python",
   "nbconvert_exporter": "python",
   "pygments_lexer": "ipython3",
   "version": "3.11.5"
  },
  "orig_nbformat": 4
 },
 "nbformat": 4,
 "nbformat_minor": 2
}
